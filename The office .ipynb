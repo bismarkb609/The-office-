{
 "cells": [
  {
   "cell_type": "code",
   "execution_count": null,
   "id": "b280d966",
   "metadata": {},
   "outputs": [],
   "source": [
    "# Use this cell to begin your analysis, and add as many as you would like!\n",
    "import matplotlib.pyplot as plt \n",
    "import pandas as pd "
   ]
  },
  {
   "cell_type": "code",
   "execution_count": null,
   "id": "79a0f792",
   "metadata": {},
   "outputs": [],
   "source": [
    "episodeDataset = pd.read_csv(\"office_episodes.csv\")\n",
    "episodeDataset.info() # gives us information about the dataset "
   ]
  },
  {
   "cell_type": "code",
   "execution_count": null,
   "id": "eb0823dc",
   "metadata": {},
   "outputs": [],
   "source": [
    "# lets have a feel of how the data looks like visually \n",
    "fig = plt.figure() \n",
    "plt.plot(episodeDataset['episode_number'], episodeDataset['viewership_mil'])"
   ]
  },
  {
   "cell_type": "code",
   "execution_count": null,
   "id": "b0e08537",
   "metadata": {},
   "outputs": [],
   "source": [
    "# lets make a bit more easier to understand by using a scatter plot \n"
   ]
  },
  {
   "cell_type": "code",
   "execution_count": null,
   "id": "cab66dee",
   "metadata": {},
   "outputs": [],
   "source": [
    "episodeNumber = episodeDataset[\"episode_number\"] # subsetting the episode number \n",
    "episodeViewership = episodeDataset[\"viewership_mil\"] # subsetting the number of views in (mil)"
   ]
  },
  {
   "cell_type": "code",
   "execution_count": null,
   "id": "3e1c89c3",
   "metadata": {},
   "outputs": [],
   "source": [
    "scaledRatings = episodeDataset[\"scaled_ratings\"] # subsetting the scaled ratings "
   ]
  },
  {
   "cell_type": "code",
   "execution_count": null,
   "id": "58cdbbef",
   "metadata": {},
   "outputs": [],
   "source": [
    "colors_str = list() # creates and empty lists to append the string of the colors \n",
    "\n",
    "#from here, we try to add filters to the scaled ratings so we understand the plot very well \n",
    "for Ratings in scaledRatings:\n",
    "    if Ratings < 0.25:       \n",
    "        r_color = \"red\"\n",
    "        colors_str.append(r_color)\n",
    "    elif Ratings >= 0.25 and Ratings < 0.50:\n",
    "        o_color = \"orange\"\n",
    "        colors_str.append(o_color)\n",
    "    elif Ratings >= 0.50 and  Ratings < 0.75:\n",
    "        l_color = \"lightgreen\"\n",
    "        colors_str.append(l_color)\n",
    "    elif Ratings >= 0.75:\n",
    "        dg_color = \"darkgreen\"\n",
    "        colors_str.append(dg_color)"
   ]
  },
  {
   "cell_type": "code",
   "execution_count": null,
   "id": "21e82ea6",
   "metadata": {},
   "outputs": [],
   "source": [
    "size_s = list() # creates an empty lists to assign the sizes into it \n",
    "\n",
    "# we will also like to know whether the dataset has a guest star or not and assign different marker sizes to it for more \n",
    "# understanding of the dataset \n",
    "guests = episodeDataset[\"has_guests\"] \n",
    "for guest in guests:\n",
    "    if guest == True: \n",
    "        s = 250\n",
    "        size_s.append(s)\n",
    "    elif guest == False: \n",
    "        s = 25\n",
    "        size_s.append(s)"
   ]
  },
  {
   "cell_type": "code",
   "execution_count": null,
   "id": "2ca4d01b",
   "metadata": {},
   "outputs": [],
   "source": [
    "fig = plt.figure() # creteas a figure \n",
    "\n",
    "plt.scatter(episodeNumber, episodeViewership,s=size_s, c=colors_str) # creates a scatter plot of the data, with added filters \n",
    "\n",
    "#assigning the x and y lables and title \n",
    "plt.xlabel(\"Episode Number\")\n",
    "plt.ylabel(\"Viewership (Millions)\")\n",
    "plt.title(\"Popularity, Quality, and Guest Appearances on the Office\")\n",
    "\n",
    "plt.show() # shows the plot "
   ]
  },
  {
   "cell_type": "code",
   "execution_count": null,
   "id": "33180622",
   "metadata": {},
   "outputs": [],
   "source": [
    "# name of guest start \n",
    "stars = episodeDataset[episodeDataset[\"viewership_mil\"] == max(episodeViewership)][\"guest_stars\"]\n",
    "\n",
    "listStars = list()\n",
    "for star in stars: \n",
    "    listStars.append(star)"
   ]
  },
  {
   "cell_type": "code",
   "execution_count": null,
   "id": "c7d83d6b",
   "metadata": {},
   "outputs": [],
   "source": [
    "Stars = listStars[0]\n",
    "top_star = Stars.split(\",\")[0] # gets the top star from the dataframe \n",
    "print(top_star)"
   ]
  }
 ],
 "metadata": {
  "kernelspec": {
   "display_name": "Python 3",
   "language": "python",
   "name": "python3"
  },
  "language_info": {
   "codemirror_mode": {
    "name": "ipython",
    "version": 3
   },
   "file_extension": ".py",
   "mimetype": "text/x-python",
   "name": "python",
   "nbconvert_exporter": "python",
   "pygments_lexer": "ipython3",
   "version": "3.8.8"
  }
 },
 "nbformat": 4,
 "nbformat_minor": 5
}
